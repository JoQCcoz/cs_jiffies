{
 "cells": [
  {
   "cell_type": "markdown",
   "metadata": {},
   "source": [
    "## Delete Rejected CryoSPARC Exposures"
   ]
  },
  {
   "cell_type": "markdown",
   "metadata": {},
   "source": [
    "This program will walk you through deleting exposures that were rejected from your CryoSPARC *Sort Exposures* job. To run this, you must have a valid CryoSPARC account, project, and *Sort Exposures* job, as well as read/write access to where the files are stored. \n",
    "\n",
    "This program ***will delete data!!!1!***. Use it with extreme caution. The author of this program bears no responsibility for accidentally deleted data. \n",
    "\n",
    "To use this program, click \"Run\" at each box, starting at the top. If you are prompted to type something, type it in and then press 'Enter' to proceed. \n",
    "\n",
    "To reset this for a new project, on the top menu, selet 'Kernel --> Restart & Clear Output'"
   ]
  },
  {
   "cell_type": "markdown",
   "metadata": {},
   "source": [
    "### Import necessary Python libraries:"
   ]
  },
  {
   "cell_type": "code",
   "execution_count": null,
   "metadata": {},
   "outputs": [],
   "source": [
    "import os\n",
    "from pathlib import Path \n",
    "from getpass import getpass\n",
    "from cryosparc.tools import CryoSPARC"
   ]
  },
  {
   "cell_type": "markdown",
   "metadata": {},
   "source": [
    "### Setup CryoSPARC instance & account:"
   ]
  },
  {
   "cell_type": "code",
   "execution_count": null,
   "metadata": {},
   "outputs": [],
   "source": [
    "cs_license = input(\"Enter your CryoSPARC license: \")"
   ]
  },
  {
   "cell_type": "code",
   "execution_count": null,
   "metadata": {},
   "outputs": [],
   "source": [
    "cs_hostname = input(\"Enter your CryoSPARC web URL: \")"
   ]
  },
  {
   "cell_type": "code",
   "execution_count": null,
   "metadata": {},
   "outputs": [],
   "source": [
    "cs_email = input(\"Enter your CryoSPARC account email: \")"
   ]
  },
  {
   "cell_type": "code",
   "execution_count": null,
   "metadata": {
    "scrolled": true
   },
   "outputs": [],
   "source": [
    "cs_password = getpass(\"Enter your CryoSPARC account password: \")"
   ]
  },
  {
   "cell_type": "code",
   "execution_count": null,
   "metadata": {},
   "outputs": [],
   "source": [
    "cs = CryoSPARC(license=cs_license, email=cs_email, password=cs_password, host=cs_hostname, base_port=39000)"
   ]
  },
  {
   "cell_type": "markdown",
   "metadata": {},
   "source": [
    "### Get CryoSPARC Project and Job Numbers:"
   ]
  },
  {
   "cell_type": "code",
   "execution_count": null,
   "metadata": {},
   "outputs": [],
   "source": [
    "project = cs.find_project(str('P' + str(input(\"Which cryoSPARC project number? \"))))"
   ]
  },
  {
   "cell_type": "code",
   "execution_count": null,
   "metadata": {},
   "outputs": [],
   "source": [
    "job = project.find_job(str('J' + str(input(\"Which cryoSPARC job number contains the rejected exposures? \"))))"
   ]
  },
  {
   "cell_type": "markdown",
   "metadata": {},
   "source": [
    "### Get rejected exposures:"
   ]
  },
  {
   "cell_type": "code",
   "execution_count": null,
   "metadata": {},
   "outputs": [],
   "source": [
    "exposures_rejected = job.load_output('exposures_rejected')\n",
    "project_dir = Path(project.dir())\n",
    "movies_list = []\n",
    "\n",
    "for group in ('movie_blob',):\n",
    "    field = group + \"/path\"\n",
    "    if field in exposures_rejected:\n",
    "        print(f\"Found {len(exposures_rejected)} rejected exposures. Please wait, this may take some time...\")\n",
    "        for rel_path in exposures_rejected['movie_blob/path']:\n",
    "            abs_path = project_dir / rel_path\n",
    "            resolved_path=Path.resolve(abs_path)\n",
    "            movies_list.append(str(resolved_path))\n",
    "            \n",
    "print(\"Done.\")"
   ]
  },
  {
   "cell_type": "markdown",
   "metadata": {},
   "source": [
    "### Save list of filenames: \n",
    "Run this if you want to save a list of filenames to be deleted. Otherwise, skip down to **Delete**"
   ]
  },
  {
   "cell_type": "code",
   "execution_count": null,
   "metadata": {},
   "outputs": [],
   "source": [
    "with open(\"rejected_exposures.txt\", \"a\") as output_file:\n",
    "    print(str(movies_list).replace(',', '\\n'), file=output_file)\n",
    "output_file.close()"
   ]
  },
  {
   "cell_type": "markdown",
   "metadata": {},
   "source": [
    "### Delete rejected exposures:\n",
    "\n",
    "***WARNING*** THIS WILL DELETE ALL THE MOVIES THAT WERE REJECTED IN THE *Sort Exposures* JOB !!!!!!!\n",
    "\n",
    "This will **not** delete particle locations, extracted particles, or even aligned micrographs. This will only delete the **movies** associated with rejected exposures in the CryoSPARC *Sort Exposures* job you specified above."
   ]
  },
  {
   "cell_type": "code",
   "execution_count": null,
   "metadata": {},
   "outputs": [],
   "source": [
    "print(\"Beginning file removal, please wait, this may take some time...\")\n",
    "for i in range(len(movies_list)):\n",
    "    if Path(movies_list[i]).exists == True:\n",
    "        os.remove(movies_list[i])\n",
    "    else:\n",
    "        print(\"File\", str(movies_list[i]), \"could not be found\")\n",
    "print(\"Done.\")"
   ]
  }
 ],
 "metadata": {
  "kernelspec": {
   "display_name": "sort_exposures",
   "language": "python",
   "name": "sort_exposures"
  },
  "language_info": {
   "codemirror_mode": {
    "name": "ipython",
    "version": 3
   },
   "file_extension": ".py",
   "mimetype": "text/x-python",
   "name": "python",
   "nbconvert_exporter": "python",
   "pygments_lexer": "ipython3",
   "version": "3.10.10"
  }
 },
 "nbformat": 4,
 "nbformat_minor": 2
}
